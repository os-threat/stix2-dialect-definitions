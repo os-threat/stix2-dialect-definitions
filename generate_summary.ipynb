{
 "cells": [
  {
   "cell_type": "markdown",
   "metadata": {},
   "source": [
    "# Setup Summary generator"
   ]
  },
  {
   "cell_type": "code",
   "execution_count": 1,
   "metadata": {},
   "outputs": [],
   "source": [
    "in_dirs = [\"./attack\", \"./custom\", \"./extensions\", \"./stix\"]\n",
    "out_paths = [\n",
    "    \"./summary/*json\",\n",
    "    \"./summary/vocab/*.json\",\n",
    "    \"./summary/enum/*.json\"\n",
    "]\n"
   ]
  },
  {
   "cell_type": "markdown",
   "metadata": {},
   "source": [
    "## Delete The Existing Files in Outpaths"
   ]
  },
  {
   "cell_type": "code",
   "execution_count": 2,
   "metadata": {},
   "outputs": [],
   "source": [
    "import glob\n",
    "import os\n",
    "\n",
    "for outpath in out_paths:\n",
    "    r = glob.glob(outpath)\n",
    "    for i in r:\n",
    "        os.remove(i)"
   ]
  },
  {
   "cell_type": "markdown",
   "metadata": {},
   "source": [
    "## Create New Files"
   ]
  },
  {
   "cell_type": "code",
   "execution_count": 3,
   "metadata": {},
   "outputs": [
    {
     "name": "stdout",
     "output_type": "stream",
     "text": [
      "c:\\Users\\brett\\OneDrive\\mycode\\Python\\stix2-dialect-definitions\n",
      "sub dirs -> []\n"
     ]
    }
   ],
   "source": [
    "import json\n",
    "constraints = []\n",
    "connections = []\n",
    "\n",
    "# Get the current working directory\n",
    "current_working_directory = os.getcwd()\n",
    "print(current_working_directory)\n",
    "sub_Dirs = [name for name in os.listdir(\"./attack\") if os.path.isdir(os.path.join(\"./attack\", name))]\n",
    "print(f\"sub dirs -> {sub_Dirs}\")\n",
    "for in_dir in in_dirs:\n",
    "    # 0. Setup pointers to 3 types of files\n",
    "    connection_file = in_dir + \"/connections.json\"\n",
    "    con_file = in_dir + \"/constraints.json\"\n",
    "    vocab_files = in_dir + \"/vocab/*.json\"\n",
    "    enumn_files = in_dir + \"/enum/*.json\"\n",
    "    # 1A. Get the Connections\n",
    "    with open(connection_file, \"r\") as script_input:\n",
    "        input_data = json.load(script_input)\n",
    "        connections = connections + input_data\n",
    "\n",
    "    # 1B. Get the Constraints\n",
    "    with open(con_file, \"r\") as script_input:\n",
    "        input_data = json.load(script_input)\n",
    "        constraints = constraints + input_data\n",
    "\n",
    "    # 2. Get the Vocab\n",
    "    vocab_file_list = glob.glob(vocab_files)\n",
    "    for vocab_file in vocab_file_list:\n",
    "        new_format = []\n",
    "        basename = os.path.basename(vocab_file)\n",
    "        with open(vocab_file, 'r') as vocab:\n",
    "            input_data = json.load(vocab)\n",
    "            for key, value in input_data.items():\n",
    "                layer = {}\n",
    "                layer[\"key\"] = key\n",
    "                layer[\"label\"] = key\n",
    "                new_format.append(layer)\n",
    "        outputfile = \"./summary/vocab/\" + basename\n",
    "        with open(outputfile, \"w\") as outfile:\n",
    "            json.dump(new_format, outfile)   \n",
    "\n",
    "    \n",
    "    # 3. Get the Enums\n",
    "    enum_file_list = glob.glob(enumn_files)\n",
    "    for enum_file in enum_file_list:\n",
    "        new_format = []\n",
    "        basename = os.path.basename(enum_file)\n",
    "        with open(enum_file, 'r') as enum:\n",
    "            input_data = json.load(enum)\n",
    "            for key, value in input_data.items():\n",
    "                layer = {}\n",
    "                layer[\"key\"] = key\n",
    "                layer[\"label\"] = key\n",
    "                new_format.append(layer)\n",
    "        outputfile = \"./summary/enum/\" + basename\n",
    "        with open(outputfile, \"w\") as outfile:\n",
    "            json.dump(new_format, outfile)   \n",
    "\n",
    "# 4. finally write in the cosntraints\n",
    "with open(\"./summary/constraints.json\", \"w\") as outfile:\n",
    "    json.dump(constraints, outfile)  \n",
    "        \n",
    "# 5 Finally write out the connections\n",
    "with open(\"./summary/connections.json\", \"w\") as outfile:\n",
    "    json.dump(connections, outfile)  \n",
    "\n"
   ]
  },
  {
   "cell_type": "code",
   "execution_count": 4,
   "metadata": {},
   "outputs": [
    {
     "name": "stdout",
     "output_type": "stream",
     "text": [
      "{'stix': {'vocab': ['account-type-ov.json', 'attack-motivation-ov.json', 'attack-resource-level-ov.json', 'grouping-context-ov.json', 'hash-algorithm-ov.json', 'identity-class-ov.json', 'implementation-language-ov.json', 'indicator-type-ov.json', 'industry-sector-ov.json', 'infrastructure-type-ov.json', 'malware-capabilities-ov.json', 'malware-result-ov.json', 'malware-type-ov.json', 'pattern-type-ov.json', 'processor-architecture-ov.json', 'region-ov.json', 'report-type-ov.json', 'threat-actor-role-ov.json', 'threat-actor-sophistication-ov.json', 'threat-actor-type-ov.json', 'tool-type-ov.json', 'windows-pebinary-type-ov.json'], 'enum': ['encryption-algorithm-enum.json', 'extension-type-enum.json', 'network-socket-address-family-enum.json', 'network-socket-type-enum.json', 'opinion-enum.json', 'windows-integrity-level-enum.json', 'windows-registry-datatype-enum.json', 'windows-service-start-type-enum.json', 'windows-service-status-enum.json', 'windows-service-type-enum.json']}, 'oca': {'vocab': ['behavior-class-ov.json', 'container-type-ov.json', 'high-value-target-attribute-ov.json', 'playbook-type-ov.json', 'tool-type-ov.json'], 'enum': []}, 'attack': {'vocab': [], 'enum': []}, 'custom': {'vocab': ['language-codes.json'], 'enum': []}, 'extensions': {'vocab': ['asset-type-ov.json', 'contact-number-ov.json', 'detection-methods-ov.json', 'digital-contact-ov.json', 'entity-type-ov.json', 'event-type-ov.json', 'external-impact-ov.json', 'incident-investigation-ov.json', 'information-type-ov.json', 'monetary-impact-type-ov.json', 'state-change-type-ov.json', 'task-type-ov.json'], 'enum': ['activity-condition-enum.json', 'activity-transition-enum.json', 'event-status-enum.json', 'incident-confidentiality-loss-enum.json', 'incident-determination-enum.json', 'integrity-alteration-enum.json', 'physical-impact-enum.json', 'recoverability-enum.json', 'sequence-type-enum.json', 'sequence_type.json', 'step-type-enum.json', 'step_type.json', 'task-outcome-enum.json', 'timestamp-fidelity-enum.json', 'traceability-enum.json']}}\n"
     ]
    }
   ],
   "source": [
    "import os\n",
    "\n",
    "current_directory = os.getcwd()\n",
    "\n",
    "dirs = [\"stix\", \"oca\", \"attack\", \"custom\", \"extensions\"]\n",
    "subdirs = [\"vocab\", \"enum\"]\n",
    "results = {}\n",
    "for x in dirs:\n",
    "\tresults[x] = {}\n",
    "\tfor y in subdirs:\n",
    "\t\tpath = os.path.join(current_directory, x, y)\n",
    "\t\t#print(f\"Checking path: {path}\")\n",
    "\t\tif os.path.exists(path):\n",
    "\t\t\t#print(f\"Path exists: {path}\")\n",
    "\t\t\tresults[x][y] = os.listdir(path)\n",
    "\t\telse:\n",
    "\t\t\t#print(f\"Path does not exist: {path}\")\n",
    "\t\t\tresults[x][y] = []\n",
    "\n",
    "print(results)"
   ]
  }
 ],
 "metadata": {
  "kernelspec": {
   "display_name": "base",
   "language": "python",
   "name": "python3"
  },
  "language_info": {
   "codemirror_mode": {
    "name": "ipython",
    "version": 3
   },
   "file_extension": ".py",
   "mimetype": "text/x-python",
   "name": "python",
   "nbconvert_exporter": "python",
   "pygments_lexer": "ipython3",
   "version": "3.10.9"
  }
 },
 "nbformat": 4,
 "nbformat_minor": 2
}
