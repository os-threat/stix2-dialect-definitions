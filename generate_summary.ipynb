{
 "cells": [
  {
   "cell_type": "markdown",
   "metadata": {},
   "source": [
    "# Setup Summary generator"
   ]
  },
  {
   "cell_type": "code",
   "execution_count": null,
   "metadata": {},
   "outputs": [],
   "source": [
    "in_dirs = [\"./attack\", \"./custom\", \"./extensions\", \"./stix\", \"./oca\"]\n",
    "out_paths = [\n",
    "    \"./summary/*.json\",\n",
    "    \"./summary/vocab/*.json\",\n",
    "    \"./summary/enum/*.json\"\n",
    "]\n"
   ]
  },
  {
   "cell_type": "markdown",
   "metadata": {},
   "source": [
    "## Delete The Existing Files in Outpaths"
   ]
  },
  {
   "cell_type": "code",
   "execution_count": null,
   "metadata": {},
   "outputs": [],
   "source": [
    "import glob\n",
    "import os\n",
    "\n",
    "for outpath in out_paths:\n",
    "    r = glob.glob(outpath)\n",
    "    for i in r:\n",
    "        os.remove(i)"
   ]
  },
  {
   "cell_type": "markdown",
   "metadata": {},
   "source": [
    "## Create New Files"
   ]
  },
  {
   "cell_type": "code",
   "execution_count": null,
   "metadata": {},
   "outputs": [],
   "source": [
    "import json\n",
    "constraints = []\n",
    "connections = []\n",
    "\n",
    "def make_into_list(my_str):\n",
    "    my_list = [word.strip() for word in my_str.split(',')]\n",
    "    return my_list\n",
    "\n",
    "# Get the current working directory\n",
    "current_working_directory = os.getcwd()\n",
    "print(current_working_directory)\n",
    "sub_Dirs = [name for name in os.listdir(\"./attack\") if os.path.isdir(os.path.join(\"./attack\", name))]\n",
    "print(f\"sub dirs -> {sub_Dirs}\")\n",
    "for in_dir in in_dirs:\n",
    "    # 0. Setup pointers to 3 types of files\n",
    "    con_file = in_dir + \"/constraints.json\"\n",
    "    connect_file = in_dir + \"/connections.json\"\n",
    "    vocab_files = in_dir + \"/vocab/*.json\"\n",
    "    enumn_files = in_dir + \"/enum/*.json\"\n",
    "    # 1. Get the Constraints\n",
    "    with open(con_file, \"r\") as script_input:\n",
    "        input_data = json.load(script_input)\n",
    "        constraints = constraints + input_data\n",
    "\n",
    "    # 2. Get the Connections\n",
    "    with open(connect_file, \"r\") as script_input:\n",
    "        input_data = json.load(script_input)\n",
    "        connections = connections + input_data\n",
    "\n",
    "    #  3. Get the Vocab\n",
    "    vocab_file_list = glob.glob(vocab_files)\n",
    "    for vocab_file in vocab_file_list:\n",
    "        new_format = []\n",
    "        basename = os.path.basename(vocab_file)\n",
    "        with open(vocab_file, 'r') as vocab:\n",
    "            input_data = json.load(vocab)\n",
    "            for key, value in input_data.items():\n",
    "                layer = {}\n",
    "                layer[\"key\"] = key\n",
    "                layer[\"label\"] = key\n",
    "                new_format.append(layer)\n",
    "        outputfile = \"./summary/vocab/\" + basename\n",
    "        with open(outputfile, \"w\") as outfile:\n",
    "            json.dump(new_format, outfile)   \n",
    "\n",
    "    \n",
    "    # 4. Get the Enums\n",
    "    enum_file_list = glob.glob(enumn_files)\n",
    "    for enum_file in enum_file_list:\n",
    "        new_format = []\n",
    "        basename = os.path.basename(enum_file)\n",
    "        with open(enum_file, 'r') as enum:\n",
    "            input_data = json.load(enum)\n",
    "            for key, value in input_data.items():\n",
    "                layer = {}\n",
    "                layer[\"key\"] = key\n",
    "                layer[\"label\"] = key\n",
    "                new_format.append(layer)\n",
    "        outputfile = \"./summary/enum/\" + basename\n",
    "        with open(outputfile, \"w\") as outfile:\n",
    "            json.dump(new_format, outfile)   \n",
    "\n",
    "# 5. finally write in the cosntraints\n",
    "with open(\"./summary/constraints.json\", \"w\") as outfile:\n",
    "    json.dump(constraints, outfile)  \n",
    "# 6A. First make the third property a list in connnections\n",
    "for con in connections:\n",
    "    temp_value = con[\"target_type\"]\n",
    "    con[\"target_type\"] = make_into_list(temp_value)\n",
    "# 6B. finally write in the connections\n",
    "with open(\"./summary/connections.json\", \"w\") as outfile:\n",
    "    json.dump(connections, outfile)  \n",
    "        \n"
   ]
  }
 ],
 "metadata": {
  "kernelspec": {
   "display_name": "Python 3",
   "language": "python",
   "name": "python3"
  },
  "language_info": {
   "codemirror_mode": {
    "name": "ipython",
    "version": 3
   },
   "file_extension": ".py",
   "mimetype": "text/x-python",
   "name": "python",
   "nbconvert_exporter": "python",
   "pygments_lexer": "ipython3",
   "version": "3.11.3"
  }
 },
 "nbformat": 4,
 "nbformat_minor": 2
}
