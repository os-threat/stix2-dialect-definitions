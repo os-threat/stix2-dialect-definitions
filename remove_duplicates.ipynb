{
 "cells": [
  {
   "cell_type": "markdown",
   "source": [
    "# Remove Duplicates\n",
    "\n",
    "Existing Att&CK constraints are in Stix constraints, remove once"
   ],
   "metadata": {
    "collapsed": false
   }
  },
  {
   "cell_type": "code",
   "execution_count": null,
   "outputs": [],
   "source": [
    "import os\n",
    "import json\n",
    "\n",
    "in_a_dir = \"./attack\"\n",
    "in_s_dir =  \"./stix\"\n",
    "in_c_file = \"/constraints.json\"\n",
    "s_constraints = []\n",
    "removed = []\n",
    "# Get the ATT&CK file\n",
    "with open(in_a_dir + in_c_file, 'r') as a_input:\n",
    "    a_constraints = json.load(a_input)\n",
    "    # Get the Stix file\n",
    "    with open(in_s_dir + in_c_file, 'r') as s_input:\n",
    "        s_constraints = json.load(s_input)\n",
    "\n",
    "        for a_c in a_constraints:\n",
    "            a_type = a_c[\"relationship_types\"]\n",
    "            a_source = a_c[\"source\"]\n",
    "            a_target = a_c[\"target\"]\n",
    "            # find it in the stix file\n",
    "            for i, s_c in enumerate(s_constraints):\n",
    "                s_source = s_c[\"source\"]\n",
    "                s_target = s_c[\"target\"]\n",
    "                if s_c[\"relationship_types\"] == a_type:\n",
    "                    if s_source == a_source and s_target == a_target:\n",
    "                        s_constraints.pop(i)\n",
    "                        removed.append(s_c)\n",
    "                        break\n",
    "\n",
    "with open(in_s_dir + in_c_file, 'w') as outfile:\n",
    "    json.dump(s_constraints, outfile)\n"
   ],
   "metadata": {
    "collapsed": false,
    "is_executing": true
   }
  },
  {
   "cell_type": "code",
   "execution_count": null,
   "outputs": [],
   "source": [],
   "metadata": {
    "collapsed": false
   }
  }
 ],
 "metadata": {
  "kernelspec": {
   "display_name": "Python 3",
   "language": "python",
   "name": "python3"
  },
  "language_info": {
   "codemirror_mode": {
    "name": "ipython",
    "version": 2
   },
   "file_extension": ".py",
   "mimetype": "text/x-python",
   "name": "python",
   "nbconvert_exporter": "python",
   "pygments_lexer": "ipython2",
   "version": "2.7.6"
  }
 },
 "nbformat": 4,
 "nbformat_minor": 0
}
